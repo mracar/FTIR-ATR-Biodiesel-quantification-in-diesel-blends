{
 "cells": [
  {
   "cell_type": "markdown",
   "metadata": {},
   "source": [
    "# FTIR-ATR data processing for quantification of biodiesel in diese blends"
   ]
  },
  {
   "cell_type": "code",
   "execution_count": 1,
   "metadata": {},
   "outputs": [],
   "source": [
    "import matplotlib.pyplot as plt\n",
    "import seaborn as sb\n",
    "import FTIRfunctions as ff\n"
   ]
  },
  {
   "cell_type": "code",
   "execution_count": 2,
   "metadata": {},
   "outputs": [],
   "source": [
    "dir_path = 'Test_data/'\n",
    "alcohols = ['NB4']\n",
    "concentrations = ['0025', '0050', '0100', '0250', '0500', '0750', \n",
    "                  '1000', '1250', '1500', '1750', '2000', '2500', \n",
    "                  '3000']\n",
    "df2 = ff.absorbance_inrange_FTIR(alcohols, concentrations, dir_path)"
   ]
  },
  {
   "cell_type": "code",
   "execution_count": 3,
   "metadata": {},
   "outputs": [
    {
     "data": {
      "text/html": [
       "<div>\n",
       "<style>\n",
       "    .dataframe thead tr:only-child th {\n",
       "        text-align: right;\n",
       "    }\n",
       "\n",
       "    .dataframe thead th {\n",
       "        text-align: left;\n",
       "    }\n",
       "\n",
       "    .dataframe tbody tr th {\n",
       "        vertical-align: top;\n",
       "    }\n",
       "</style>\n",
       "<table border=\"1\" class=\"dataframe\">\n",
       "  <thead>\n",
       "    <tr style=\"text-align: right;\">\n",
       "      <th></th>\n",
       "      <th>Wavenumber</th>\n",
       "      <th>0.5%</th>\n",
       "      <th>1.0%</th>\n",
       "      <th>2.5%</th>\n",
       "      <th>5.0%</th>\n",
       "      <th>7.5%</th>\n",
       "      <th>10.0%</th>\n",
       "      <th>12.5%</th>\n",
       "      <th>15.0%</th>\n",
       "      <th>17.5%</th>\n",
       "      <th>20.0%</th>\n",
       "      <th>25.0%</th>\n",
       "      <th>30.0%</th>\n",
       "    </tr>\n",
       "  </thead>\n",
       "  <tbody>\n",
       "    <tr>\n",
       "      <th>0</th>\n",
       "      <td>1797</td>\n",
       "      <td>0.000558</td>\n",
       "      <td>0.000745</td>\n",
       "      <td>0.000453</td>\n",
       "      <td>0.000518</td>\n",
       "      <td>0.000551</td>\n",
       "      <td>0.000436</td>\n",
       "      <td>0.000324</td>\n",
       "      <td>0.000249</td>\n",
       "      <td>0.000181</td>\n",
       "      <td>0.000287</td>\n",
       "      <td>0.000236</td>\n",
       "      <td>0.000018</td>\n",
       "    </tr>\n",
       "    <tr>\n",
       "      <th>1</th>\n",
       "      <td>1796</td>\n",
       "      <td>0.000518</td>\n",
       "      <td>0.000737</td>\n",
       "      <td>0.000410</td>\n",
       "      <td>0.000478</td>\n",
       "      <td>0.000485</td>\n",
       "      <td>0.000419</td>\n",
       "      <td>0.000288</td>\n",
       "      <td>0.000170</td>\n",
       "      <td>0.000116</td>\n",
       "      <td>0.000216</td>\n",
       "      <td>0.000183</td>\n",
       "      <td>-0.000045</td>\n",
       "    </tr>\n",
       "    <tr>\n",
       "      <th>2</th>\n",
       "      <td>1795</td>\n",
       "      <td>0.000464</td>\n",
       "      <td>0.000677</td>\n",
       "      <td>0.000351</td>\n",
       "      <td>0.000421</td>\n",
       "      <td>0.000422</td>\n",
       "      <td>0.000404</td>\n",
       "      <td>0.000245</td>\n",
       "      <td>0.000120</td>\n",
       "      <td>0.000065</td>\n",
       "      <td>0.000145</td>\n",
       "      <td>0.000142</td>\n",
       "      <td>-0.000107</td>\n",
       "    </tr>\n",
       "    <tr>\n",
       "      <th>3</th>\n",
       "      <td>1794</td>\n",
       "      <td>0.000409</td>\n",
       "      <td>0.000576</td>\n",
       "      <td>0.000281</td>\n",
       "      <td>0.000343</td>\n",
       "      <td>0.000367</td>\n",
       "      <td>0.000374</td>\n",
       "      <td>0.000188</td>\n",
       "      <td>0.000110</td>\n",
       "      <td>0.000057</td>\n",
       "      <td>0.000098</td>\n",
       "      <td>0.000128</td>\n",
       "      <td>-0.000142</td>\n",
       "    </tr>\n",
       "    <tr>\n",
       "      <th>4</th>\n",
       "      <td>1793</td>\n",
       "      <td>0.000350</td>\n",
       "      <td>0.000465</td>\n",
       "      <td>0.000204</td>\n",
       "      <td>0.000226</td>\n",
       "      <td>0.000305</td>\n",
       "      <td>0.000289</td>\n",
       "      <td>0.000109</td>\n",
       "      <td>0.000086</td>\n",
       "      <td>0.000060</td>\n",
       "      <td>0.000043</td>\n",
       "      <td>0.000094</td>\n",
       "      <td>-0.000184</td>\n",
       "    </tr>\n",
       "  </tbody>\n",
       "</table>\n",
       "</div>"
      ],
      "text/plain": [
       "   Wavenumber     0.5%      1.0%      2.5%      5.0%      7.5%     10.0%   \\\n",
       "0        1797  0.000558  0.000745  0.000453  0.000518  0.000551  0.000436   \n",
       "1        1796  0.000518  0.000737  0.000410  0.000478  0.000485  0.000419   \n",
       "2        1795  0.000464  0.000677  0.000351  0.000421  0.000422  0.000404   \n",
       "3        1794  0.000409  0.000576  0.000281  0.000343  0.000367  0.000374   \n",
       "4        1793  0.000350  0.000465  0.000204  0.000226  0.000305  0.000289   \n",
       "\n",
       "     12.5%     15.0%     17.5%     20.0%     25.0%     30.0%   \n",
       "0  0.000324  0.000249  0.000181  0.000287  0.000236  0.000018  \n",
       "1  0.000288  0.000170  0.000116  0.000216  0.000183 -0.000045  \n",
       "2  0.000245  0.000120  0.000065  0.000145  0.000142 -0.000107  \n",
       "3  0.000188  0.000110  0.000057  0.000098  0.000128 -0.000142  \n",
       "4  0.000109  0.000086  0.000060  0.000043  0.000094 -0.000184  "
      ]
     },
     "execution_count": 3,
     "metadata": {},
     "output_type": "execute_result"
    }
   ],
   "source": [
    "df2.head()"
   ]
  },
  {
   "cell_type": "code",
   "execution_count": null,
   "metadata": {
    "collapsed": true
   },
   "outputs": [],
   "source": []
  },
  {
   "cell_type": "code",
   "execution_count": null,
   "metadata": {
    "collapsed": true
   },
   "outputs": [],
   "source": []
  }
 ],
 "metadata": {
  "kernelspec": {
   "display_name": "Python 3",
   "language": "python",
   "name": "python3"
  },
  "language_info": {
   "codemirror_mode": {
    "name": "ipython",
    "version": 3
   },
   "file_extension": ".py",
   "mimetype": "text/x-python",
   "name": "python",
   "nbconvert_exporter": "python",
   "pygments_lexer": "ipython3",
   "version": "3.6.3"
  }
 },
 "nbformat": 4,
 "nbformat_minor": 2
}
