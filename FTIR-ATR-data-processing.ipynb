{
 "cells": [
  {
   "cell_type": "markdown",
   "metadata": {},
   "source": [
    "# FTIR-ATR data processing for quantification of biodiesel in diese blends"
   ]
  },
  {
   "cell_type": "code",
   "execution_count": 2,
   "metadata": {
    "collapsed": true
   },
   "outputs": [],
   "source": [
    "import pandas as pd\n",
    "import numpy as np\n",
    "import codecs\n",
    "import matplotlib.pyplot as plt\n",
    "import seaborn as sb"
   ]
  },
  {
   "cell_type": "code",
   "execution_count": 3,
   "metadata": {
    "collapsed": true
   },
   "outputs": [],
   "source": [
    "def open_ascii(path):\n",
    "    with codecs.open(path, encoding='utf-8-sig') as f:\n",
    "        lines = f.readlines()[56:-2]\n",
    "        new_lines = []\n",
    "        for line in lines:\n",
    "            splited_line = line.split('\\t')\n",
    "            splited_line[0] = int(float(splited_line[0]))\n",
    "            splited_line[1] = float(splited_line[1])\n",
    "            new_lines.append(splited_line)\n",
    "        df = pd.DataFrame(new_lines, columns=['Wave_number', 'Absorbance'])\n",
    "    return df"
   ]
  },
  {
   "cell_type": "code",
   "execution_count": null,
   "metadata": {
    "collapsed": true
   },
   "outputs": [],
   "source": []
  }
 ],
 "metadata": {
  "kernelspec": {
   "display_name": "Python 3",
   "language": "python",
   "name": "python3"
  },
  "language_info": {
   "codemirror_mode": {
    "name": "ipython",
    "version": 3
   },
   "file_extension": ".py",
   "mimetype": "text/x-python",
   "name": "python",
   "nbconvert_exporter": "python",
   "pygments_lexer": "ipython3",
   "version": "3.6.3"
  }
 },
 "nbformat": 4,
 "nbformat_minor": 2
}
