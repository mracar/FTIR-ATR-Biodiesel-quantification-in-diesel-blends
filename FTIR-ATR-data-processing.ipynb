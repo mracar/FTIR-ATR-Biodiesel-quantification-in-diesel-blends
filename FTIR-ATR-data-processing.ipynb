{
 "cells": [
  {
   "cell_type": "markdown",
   "metadata": {},
   "source": [
    "# FTIR-ATR data processing for quantification of biodiesel in diese blends"
   ]
  },
  {
   "cell_type": "code",
   "execution_count": null,
   "metadata": {},
   "outputs": [],
   "source": [
    "import matplotlib.pyplot as plt\n",
    "import seaborn as sb\n",
    "import FTIRfunctions as ff\n"
   ]
  },
  {
   "cell_type": "code",
   "execution_count": null,
   "metadata": {},
   "outputs": [],
   "source": [
    "dir_path = 'Test_data/'\n",
    "alcohols = ['NB4']\n",
    "concentrations = ['0025', '0050', '0100', '0250', '0500', '0750', \n",
    "                  '1000', '1250', '1500', '1750', '2000', '2500', \n",
    "                  '3000']\n",
    "for alcohol in alcohols:\n",
    "    df2 = ff.absorbance_inrange_FTIR(alcohol, concentrations, dir_path)"
   ]
  },
  {
   "cell_type": "code",
   "execution_count": null,
   "metadata": {},
   "outputs": [],
   "source": [
    "df2.head()"
   ]
  },
  {
   "cell_type": "code",
   "execution_count": null,
   "metadata": {},
   "outputs": [],
   "source": [
    "dir_path = 'Test_data/'\n",
    "alcohols = ['NB4']\n",
    "concentrations = ['0025', '0050', '0100', '0250', '0500', '0750', \n",
    "                  '1000', '1250', '1500', '1750', '2000', '2500', \n",
    "                  '3000']\n",
    "for alcohol in alcohols:\n",
    "    df2 = ff.max_amplitude_FTIR(alcohol, concentrations, dir_path)"
   ]
  },
  {
   "cell_type": "code",
   "execution_count": null,
   "metadata": {
    "collapsed": true
   },
   "outputs": [],
   "source": []
  }
 ],
 "metadata": {
  "kernelspec": {
   "display_name": "Python 3",
   "language": "python",
   "name": "python3"
  },
  "language_info": {
   "codemirror_mode": {
    "name": "ipython",
    "version": 3
   },
   "file_extension": ".py",
   "mimetype": "text/x-python",
   "name": "python",
   "nbconvert_exporter": "python",
   "pygments_lexer": "ipython3",
   "version": "3.6.3"
  }
 },
 "nbformat": 4,
 "nbformat_minor": 2
}
